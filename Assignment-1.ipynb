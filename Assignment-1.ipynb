{
 "cells": [
  {
   "cell_type": "code",
   "execution_count": 1,
   "id": "3d293697-18a6-46bd-afd7-3f2ad1ae4955",
   "metadata": {
    "collapsed": true,
    "jupyter": {
     "outputs_hidden": true
    },
    "tags": []
   },
   "outputs": [
    {
     "ename": "SyntaxError",
     "evalue": "invalid syntax (397928531.py, line 2)",
     "output_type": "error",
     "traceback": [
      "\u001b[0;36m  Cell \u001b[0;32mIn[1], line 2\u001b[0;36m\u001b[0m\n\u001b[0;31m    Ans- Guido van Rossum in 1989.\u001b[0m\n\u001b[0m               ^\u001b[0m\n\u001b[0;31mSyntaxError\u001b[0m\u001b[0;31m:\u001b[0m invalid syntax\n"
     ]
    }
   ],
   "source": [
    "1.Who developed Python Programming language?\n",
    "Ans- Guido van Rossum in 1989.\n",
    "\n",
    "2.Which type of programming does Python support?\n",
    "Ans- Imperative programming\n",
    "     object oriented programming\n",
    "     functional programming\n",
    "     procedural programming\n",
    "    overall python is multi-paradigm programming language.\n",
    "    \n",
    "\n",
    "3.Is Python case sensitive when dealing with identifiers?\n",
    "Ans -Yes\n",
    "\n",
    "4.What is correct extension of python file?\n",
    "Ans- .py is the extension of python.\n",
    "\n",
    "5.Is Python code compiled or interpreted?\n",
    "Ans-Python is \"INTERPRETED\" language.\n",
    "\n",
    "6.Name a few blocks of code used to define in Python language?\n",
    "Ans-Functions,classes,Loops,Conditional statements,Try-Except block.\n",
    "    Indentation in python used to define the scope of block.\n",
    "\n",
    "7.State a character used to give single-line comments in python?\n",
    "Ans- pound/hash symbol (#)\n",
    "    \n",
    "8.Mention functions which can help us to find the version of python that we are currently working on?\n",
    "Ans-    By using 'sys' module and accessing the 'version' attribute.\n",
    "    alternatively you can use the'platform'module to get the python version.\n",
    "    \n",
    "9. Python supports the creation of anonymous functions at runtime,using a construct called ?\n",
    "Ans-   lambda keyword ,followed by a list of arguments,a colon(:), and a single expression.\n",
    "    \n",
    "10.what does pip stand for python?\n",
    "Ans- Pip is an acronym that stands for pip installs packages.\n",
    "\n",
    "    \n",
    "11.Mention a few built-in functions in python?\n",
    "Ans-    print()\n",
    "        len()\n",
    "        type()\n",
    "        str()\n",
    "        int()\n",
    "        float()\n",
    "        list()\n",
    "        tuple()\n",
    "        range()\n",
    "        max()\n",
    "        min()\n",
    "        sorted()\n",
    "        sum()\n",
    "12.What is maximum possible length of an identifier in Python?\n",
    "Ans-No fixed to maximum length of identifier.\n",
    "    for operating system file name length which is often 255 characters.\n",
    "\n",
    "13.What are the benefits of using Python?\n",
    "Ans-1.Easy to learn and use\n",
    "    2.versatile\n",
    "    3.Large community\n",
    "    4.Cross-platform\n",
    "    5.Open source\n",
    "    6.Dynamic typing\n",
    "    7.High level language\n",
    "    8.Large standard library\n",
    "    \n",
    "    \n",
    "14.How is memory managed in Python?\n",
    "Ans-Handled automatically by the python interpreter.\n",
    "    \n",
    "15.How to install Python on Windows and set path variables?\n",
    "Ans-\n",
    "    1.Download the python installer from official website(https://www.python.org/downloads) \n",
    "    \n",
    "    2.Run the installer and follow the prompts and type 'python'to your PATH.make sure to select \"Yes\".\n",
    "    \n",
    "    3.Once installation is complete,open the command prompt and type 'python' to confirm that python is installed and the PATH variable is set correctly.\n",
    "    \n",
    "    4.set PATH variable permanently,you need to add the python installation directory to the PATH enviornment variable.\n",
    "    Here how you can do it:\n",
    "                            a)Open the start menu and search for \"Enviormnet Variables\".\n",
    "                            b)Click on \"Edit the system environment variables\".\n",
    "                            c)In system properties window,click on the\"Enviornment Variables \"button.\n",
    "                            d)Under\"System Variables\",scroll down and find the \"Path\"variable,then click on \"Edit\".\n",
    "                            e)Click on \"New\" and add the path to the python installation directory(e.g.C:\\Python3x)\n",
    "                            f)Cloase all windows and restart the command prompt.\n",
    "                    \n",
    "                    after following step you should able to run python from any location in the command prompt.\n",
    "    \n",
    "   16.Is indentation required in python?\n",
    "   Ans-Yes it is required.\n",
    "    "
   ]
  },
  {
   "cell_type": "code",
   "execution_count": null,
   "id": "5ad50bff-c5b7-4d88-b6c1-7b9f99a98cc7",
   "metadata": {},
   "outputs": [],
   "source": []
  }
 ],
 "metadata": {
  "kernelspec": {
   "display_name": "Python 3 (ipykernel)",
   "language": "python",
   "name": "python3"
  },
  "language_info": {
   "codemirror_mode": {
    "name": "ipython",
    "version": 3
   },
   "file_extension": ".py",
   "mimetype": "text/x-python",
   "name": "python",
   "nbconvert_exporter": "python",
   "pygments_lexer": "ipython3",
   "version": "3.10.8"
  }
 },
 "nbformat": 4,
 "nbformat_minor": 5
}
